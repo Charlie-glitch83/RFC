{
 "cells": [
  {
   "cell_type": "markdown",
   "metadata": {},
   "source": [
    "# RFC Simulation Notebook\n",
    "\n",
    "This notebook lets you simulate any module (A–K) from Recursive Fractal Cosmology (RFC) using symbolic recursion kernels defined in your GitHub repo.\n",
    "\n",
    "- Select a config JSON\n",
    "- Load parameters\n",
    "- Run the simulation\n",
    "- Plot results like $\\psi(t)$, $S(t)$, $m(\\nu)$, or $\\lambda_{div}(t)$"
   ]
  },
  {
   "cell_type": "code",
   "execution_count": null,
   "metadata": {},
   "outputs": [],
   "source": [
    "# Imports\n",
    "import json5\n",
    "import numpy as np\n",
    "import sympy as sp\n",
    "import matplotlib.pyplot as plt\n",
    "from pathlib import Path\n",
    "\n",
    "# Symbolic setup\n",
    "t = sp.symbols('t')"
   ]
  },
  {
   "cell_type": "code",
   "execution_count": null,
   "metadata": {},
   "outputs": [],
   "source": [
    "# Load a config file (change this filename to test others)\n",
    "config_path = Path('../Simulation Configurations/module_I.json')\n",
    "with open(config_path, 'r') as f:\n",
    "    config = json5.load(f)\n",
    "\n",
    "config"
   ]
  },
  {
   "cell_type": "code",
   "execution_count": null,
   "metadata": {},
   "outputs": [],
   "source": [
    "# Example: Simulate ψ(t; ν) for mass field (Module I)\n",
    "\n",
    "delta = config.get(\"delta\", 4.669)\n",
    "alpha = config.get(\"alpha\", 0.01)\n",
    "nu_values = config.get(\"nu_values\", [0.003])\n",
    "t_range = config.get(\"t_range\", [0, 60])\n",
    "dt = config.get(\"dt\", 0.1)\n",
    "\n",
    "t_vals = np.arange(t_range[0], t_range[1], dt)\n",
    "results = {}\n",
    "\n",
    "for nu in nu_values:\n",
    "    psi_t = []\n",
    "    for t_num in t_vals:\n",
    "        val = sum([(1 / delta ** j) * np.cos(j * t_num + nu) * np.exp(-alpha * j * t_num) for j in range(1, 41)])\n",
    "        psi_t.append(val)\n",
    "    results[nu] = psi_t\n",
    "\n",
    "# Plot\n",
    "plt.figure(figsize=(10, 5))\n",
    "for nu, ψ_vals in results.items():\n",
    "    plt.plot(t_vals, ψ_vals, label=f\"ν = {nu}\")\n",
    "plt.title(\"ψ(t; ν) — Symbolic Mass Field (Module I)\")\n",
    "plt.xlabel(\"t\")\n",
    "plt.ylabel(\"ψ(t)\")\n",
    "plt.legend()\n",
    "plt.grid(True)\n",
    "plt.show()"
   ]
  }
 ],
 "metadata": {
  "kernelspec": {
   "display_name": "Python 3",
   "language": "python",
   "name": "python3"
  },
  "language_info": {
   "name": "python",
   "version": ""
  }
 },
 "nbformat": 4,
 "nbformat_minor": 5
}
